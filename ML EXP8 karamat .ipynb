{
 "cells": [
  {
   "cell_type": "code",
   "execution_count": 2,
   "id": "314be698-c9f3-4c54-8aca-7b1350e513e7",
   "metadata": {},
   "outputs": [
    {
     "data": {
      "image/png": "[encoded data removed]",
      "text/plain": [
       "<Figure size 640x480 with 1 Axes>"
      ]
     },
     "metadata": {},
     "output_type": "display_data"
    }
   ],
   "source": [
    "import pandas as pd\n",
    "import matplotlib.pyplot as plt\n",
    "from sklearn.cluster import KMeans\n",
    "# Assuming you are working with the 'Mall_Customers.csv' dataset\n",
    "df = pd.read_csv(\"Mall_Customers.csv\")\n",
    "x = df[['Annual Income (k$)', 'Spending Score (1-100)']]  # Select features for clustering\n",
    "# Calculate WCSS for different numbers of clusters\n",
    "wcss = []\n",
    "for k in range(1, 11):\n",
    "    k_means = KMeans(n_clusters=k, random_state=42)\n",
    "    k_means.fit(x)\n",
    "    wcss.append(k_means.inertia_)\n",
    "# Plot the results using the Elbow Method\n",
    "plt.plot(range(1, 11), wcss)\n",
    "plt.title('The Elbow Method BY Karamat')\n",
    "plt.xlabel('Number of clusters')\n",
    "plt.ylabel('WCSS')\n",
    "plt.show()\n"
   ]
  },
  {
   "cell_type": "code",
   "execution_count": 3,
   "id": "39aa508e-a963-4939-8753-4f1372aaad6e",
   "metadata": {},
   "outputs": [
    {
     "name": "stderr",
     "output_type": "stream",
     "text": [
      "C:\\Users\\Karamat\\AppData\\Local\\Programs\\Python\\Python310\\lib\\site-packages\\sklearn\\base.py:493: UserWarning: X does not have valid feature names, but KMeans was fitted with feature names\n",
      "  warnings.warn(\n"
     ]
    },
    {
     "name": "stdout",
     "output_type": "stream",
     "text": [
      "This customer belongs to cluster no: 3\n"
     ]
    }
   ],
   "source": [
    "import pandas as pd\n",
    "from tkinter import *\n",
    "import matplotlib.pyplot as plt\n",
    "from matplotlib.backends.backend_tkagg import FigureCanvasTkAgg\n",
    "from sklearn.cluster import KMeans\n",
    "\n",
    "df = pd.read_csv(\"Mall_Customers.csv\")\n",
    "# Prepare the data for clustering\n",
    "x = df[['Annual Income (k$)', 'Spending Score (1-100)']]\n",
    "k_mean = KMeans(n_clusters=5, random_state=42)\n",
    "y_mean = k_mean.fit_predict(x)\n",
    "def show_entry_fields():\n",
    "  p1 = int(e1.get())\n",
    "  p2 = int(e2.get())  \n",
    "  result = k_mean.predict([[p1, p2]])\n",
    "  print(\"This customer belongs to cluster no:\", result[0])\n",
    "\n",
    "  cluster_info = {\n",
    "      0: \"customer with medium annual income & medium annual spending score\",\n",
    "      1: \"customer with high annual income & low annual spending score\",\n",
    "      2: \"customer with low annual income & low annual spending score\",\n",
    "      3: \"customer with low annual income & high annual spending score\",\n",
    "      4: \"customer with high annual income & high annual spending score\"\n",
    "  }\n",
    "  for widget in master.grid_slaves():\n",
    "    if int(widget.grid_info()[\"row\"]) >= 4:  # Assuming info labels start from row 4\n",
    "      widget.destroy()\n",
    "  Label(master, text=cluster_info[result[0]]).grid(row=4)\n",
    "master = Tk()\n",
    "master.title(\"Karamat => 222P003 Customer Segmentation using Machine Learning\")\n",
    "Label(master, text=\"Karamat => 222P003 Customer Segmentation using Machine Learning\", bg=\"Yellow\", fg=\"black\").grid(row=0, columnspan=2)\n",
    "# Input labels and entrie\n",
    "Label(master, text=\"Annual Income\").grid(row=1)\n",
    "Label(master, text=\"Spending Score\").grid(row=2)\n",
    "e1 = Entry(master)\n",
    "e2 = Entry(master)\n",
    "e1.grid(row=1, column=1)\n",
    "e2.grid(row=2, column=1)\n",
    "Button(master, text='Predict', command=show_entry_fields).grid(row=3)\n",
    "figure3 = plt.Figure(figsize=(5, 4), dpi=100)\n",
    "ax3 = figure3.add_subplot(111)\n",
    "for i in range(5):  # Since n_clusters=5\n",
    "  ax3.scatter(x.iloc[y_mean == i, 0], x.iloc[y_mean == i, 1], s=100, label=f'Cluster {i}')\n",
    "ax3.set_xlabel('Annual Income (k$)')\n",
    "ax3.set_ylabel('Spending Score (1-100)')\n",
    "ax3.set_title('Annual Income vs Spending Score')\n",
    "ax3.legend()\n",
    "scatter3 = FigureCanvasTkAgg(figure3, master)\n",
    "scatter3.get_tk_widget().grid(row=5, columnspan=2)\n",
    "master.mainloop()\n"
   ]
  },
  {
   "cell_type": "code",
   "execution_count": null,
   "id": "fba6021c-da62-451b-91e6-9f9a396dcd3a",
   "metadata": {},
   "outputs": [
    {
     "name": "stderr",
     "output_type": "stream",
     "text": [
      "C:\\Users\\Karamat\\AppData\\Local\\Programs\\Python\\Python310\\lib\\site-packages\\sklearn\\base.py:493: UserWarning: X does not have valid feature names, but KMeans was fitted with feature names\n",
      "  warnings.warn(\n"
     ]
    },
    {
     "name": "stdout",
     "output_type": "stream",
     "text": [
      "This student belongs to cluster no: 4\n"
     ]
    }
   ],
   "source": [
    "import pandas as pd\n",
    "from tkinter import *\n",
    "import matplotlib.pyplot as plt\n",
    "from matplotlib.backends.backend_tkagg import FigureCanvasTkAgg\n",
    "from sklearn.cluster import KMeans\n",
    "\n",
    "# Load the data\n",
    "df = pd.read_csv(\"Placement.csv\")\n",
    "x = df[['cgpa', 'package']]\n",
    "\n",
    "# Initialize KMeans with the desired number of clusters\n",
    "k_mean = KMeans(n_clusters=5, random_state=42)\n",
    "y_mean = k_mean.fit_predict(x)\n",
    "\n",
    "# Function to handle the 'Predict' button click\n",
    "def show_entry_fields():\n",
    "    p1 = float(e1.get())\n",
    "    p2 = float(e2.get())\n",
    "    result = k_mean.predict([[p1, p2]])\n",
    "    print(\"This student belongs to cluster no:\", result[0])\n",
    "    \n",
    "    cluster_info = {\n",
    "        0: \"students with medium CGPA and medium package\",\n",
    "        1: \"students with high CGPA and low package\",\n",
    "        2: \"students with low CGPA and low package\",\n",
    "        3: \"students with low CGPA and high package\",\n",
    "        4: \"students with high CGPA and high package\"\n",
    "    }\n",
    "    \n",
    "    # Clear previous labels if any\n",
    "    for widget in master.grid_slaves():\n",
    "        if int(widget.grid_info()[\"row\"]) >= 4:  # Assuming info labels start from row 4\n",
    "            widget.destroy()\n",
    "\n",
    "    # Display the result label\n",
    "    Label(master, text=cluster_info[result[0]]).grid(row=4)\n",
    "\n",
    "# Initialize the main Tkinter window\n",
    "master = Tk()\n",
    "master.title(\"Student Placement Segmentation\")\n",
    "\n",
    "# Main title label\n",
    "Label(master, text=\"Student Placement Segmentation using Machine Learning\", bg=\"Yellow\", fg=\"black\").grid(row=0, columnspan=2)\n",
    "\n",
    "# Input labels and entry fields\n",
    "Label(master, text=\"CGPA\").grid(row=1)\n",
    "Label(master, text=\"Package\").grid(row=2)\n",
    "e1 = Entry(master)\n",
    "e2 = Entry(master)\n",
    "e1.grid(row=1, column=1)\n",
    "e2.grid(row=2, column=1)\n",
    "\n",
    "# Predict button\n",
    "Button(master, text='Predict', command=show_entry_fields).grid(row=3)\n",
    "\n",
    "# Plotting the clusters\n",
    "figure3 = plt.Figure(figsize=(5, 4), dpi=100)\n",
    "ax3 = figure3.add_subplot(111)\n",
    "\n",
    "# Plot the existing clusters\n",
    "for i in range(5):  # Since n_clusters=5\n",
    "    ax3.scatter(x.iloc[y_mean == i, 0], x.iloc[y_mean == i, 1], s=100, label=f'Cluster {i}')\n",
    "\n",
    "# Set plot labels and title\n",
    "ax3.set_xlabel('CGPA')\n",
    "ax3.set_ylabel('Package')\n",
    "ax3.set_title('CGPA vs Package')\n",
    "ax3.legend()\n",
    "\n",
    "# Display the figure in the Tkinter window\n",
    "scatter3 = FigureCanvasTkAgg(figure3, master)\n",
    "scatter3.get_tk_widget().grid(row=5, columnspan=2)\n",
    "\n",
    "# Run the main Tkinter event loop\n",
    "master.mainloop()"
   ]
  },
  {
   "cell_type": "code",
   "execution_count": null,
   "id": "f5d3d4d8-a9ac-452e-9e09-efda20c1d602",
   "metadata": {},
   "outputs": [],
   "source": []
  }
 ],
 "metadata": {
  "kernelspec": {
   "display_name": "Python 3 (ipykernel)",
   "language": "python",
   "name": "python3"
  },
  "language_info": {
   "codemirror_mode": {
    "name": "ipython",
    "version": 3
   },
   "file_extension": ".py",
   "mimetype": "text/x-python",
   "name": "python",
   "nbconvert_exporter": "python",
   "pygments_lexer": "ipython3",
   "version": "3.10.2"
  }
 },
 "nbformat": 4,
 "nbformat_minor": 5
}
